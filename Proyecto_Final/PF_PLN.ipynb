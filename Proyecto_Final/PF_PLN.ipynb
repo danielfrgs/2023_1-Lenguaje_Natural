{
 "cells": [
  {
   "cell_type": "markdown",
   "metadata": {},
   "source": [
    "# Proyecto Final PLN | Clickbait\n",
    "\n",
    "Se proponen dos tareas principalmente para este reto:\n",
    "\n",
    "Tarea 1: Sobre la clasificación del tipo de spoiler: La entrada es la publicación de clickbait y el documento vinculado. La tarea es clasificar el tipo de spoiler que justifica la publicación de clickbait (ya sea \"phrase\", \"passage\", \"multi\"). Para cada entrada, se debe generar una salida como `{\"uuid\": \"<UUID>\", \"spoilerType\": \"<SPOILER-TYPE>\"}` donde `<SPOILER-TYPE>` es una `phrase`, `passage`, or `multi`.\n",
    "\n",
    "Tarea 2: Sobre la generación de spoilers: La entrada es la publicación de clickbait y el documento vinculado (y, opcionalmente, el tipo de spoiler si su enfoque usa este campo). La tarea es generar el spoiler para la publicación de clickbait. Para cada entrada, se debe generar una salida como `{\"uuid\": \"<UUID>\", \"spoiler\": \"<SPOILER>\"}` donde `<SPOILER>` es el spoiler de la publicación clickbait.\n",
    "\n",
    "## Sobre los datos\n",
    "\n",
    "Los datos vienen en formato JSON Lines (.jsonl) donde cada línea contiene una publicación de clickbait y la versión limpiada manualmente del documento vinculado. Para cada línea, el objetivo es clasificar el tipo de spoiler necesario (tarea 1) y/o generar el spoiler (tarea 2).\n",
    "\n",
    "Para cada entrada en el conjunto de datos de entrenamiento y validación, están disponibles los siguientes campos:\n",
    "\n",
    "- `uuid`: El `uuid` de la entrada del conjunto de datos.\n",
    "- `postText`: El texto de la publicación de clickbait que se va a estropear.\n",
    "- `targetParagraphs`: El contenido principal de la página web enlazada para clasificar el tipo de spoiler (tarea 1) y generar el spoiler (tarea 2). Consiste en los párrafos del contenido principal extraído manualmente.\n",
    "- `targetTitle`: El título de la página web enlazada para clasificar el tipo de spoiler (tarea 1) y generar el spoiler (tarea 2).\n",
    "- `targetUrl`: La URL de la página web vinculada.\n",
    "- `humanSpoiler`: El spoiler generado por humanos (abstractivo) para la publicación de clickbait de la página web vinculada. Este campo solo está disponible en el conjunto de datos de entrenamiento y validación (no durante la prueba).\n",
    "- `spoiler`: El spoiler extraído por humanos para la publicación de clickbait de la página web vinculada. Este campo solo está disponible en el conjunto de datos de entrenamiento y validación (no durante la prueba).\n",
    "- `spoilerPositions`: la posición del spoiler extraído por humanos para la publicación de clickbait de la página web vinculada. Este campo solo está disponible en el conjunto de datos de entrenamiento y validación (no durante la prueba).\n",
    "etiquetas: el tipo de spoiler (puede ser \"frase\", \"pasaje\" o \"múltiple\") que se clasificará en la tarea 1 (clasificación del tipo de spoiler). Este campo solo está disponible en el conjunto de datos de entrenamiento y validación (no durante la prueba). ).\n",
    "Algunos campos contienen metainformación adicional sobre la entrada, pero no se usan: `postId`, `postPlatform`, `targetDescription`, `targetKeywords`, `targetMedia`.\n"
   ]
  },
  {
   "cell_type": "code",
   "execution_count": null,
   "metadata": {},
   "outputs": [],
   "source": []
  }
 ],
 "metadata": {
  "kernelspec": {
   "display_name": "Python 3.10.6 64-bit",
   "language": "python",
   "name": "python3"
  },
  "language_info": {
   "name": "python",
   "version": "3.10.6"
  },
  "orig_nbformat": 4,
  "vscode": {
   "interpreter": {
    "hash": "aee8b7b246df8f9039afb4144a1f6fd8d2ca17a180786b69acc140d282b71a49"
   }
  }
 },
 "nbformat": 4,
 "nbformat_minor": 2
}
