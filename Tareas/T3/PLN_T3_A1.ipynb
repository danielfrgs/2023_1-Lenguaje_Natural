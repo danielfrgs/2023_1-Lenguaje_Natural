{
  "nbformat": 4,
  "nbformat_minor": 0,
  "metadata": {
    "colab": {
      "name": "PLN-T3-A1.ipynb",
      "provenance": [],
      "authorship_tag": "ABX9TyMsHwD9Wl+57YPuaCpvwyEb",
      "include_colab_link": true
    },
    "kernelspec": {
      "name": "python3",
      "display_name": "Python 3"
    },
    "language_info": {
      "name": "python"
    }
  },
  "cells": [
    {
      "cell_type": "markdown",
      "metadata": {
        "id": "view-in-github",
        "colab_type": "text"
      },
      "source": [
        "<a href=\"https://colab.research.google.com/github/danielfrgs/2023_1-Lenguaje_Natural/blob/main/Tareas/T3/PLN_T3_A1.ipynb\" target=\"_parent\"><img src=\"https://colab.research.google.com/assets/colab-badge.svg\" alt=\"Open In Colab\"/></a>"
      ]
    },
    {
      "cell_type": "code",
      "execution_count": 2,
      "metadata": {
        "colab": {
          "base_uri": "https://localhost:8080/"
        },
        "id": "_1Cc4wJDYtHd",
        "outputId": "3258f28c-ee94-4650-cb61-6a367364c48f"
      },
      "outputs": [
        {
          "output_type": "stream",
          "name": "stdout",
          "text": [
            "Mounted at /content/drive\n"
          ]
        }
      ],
      "source": [
        "from google.colab import drive\n",
        "drive.mount('/content/drive')"
      ]
    },
    {
      "cell_type": "code",
      "source": [
        "import pandas as pd\n",
        "import re\n",
        "import numpy as np"
      ],
      "metadata": {
        "id": "sCKZV0FQZyzT"
      },
      "execution_count": 3,
      "outputs": []
    },
    {
      "cell_type": "code",
      "source": [
        "# Vamos a abrir y leer los datos\n",
        "text_1 = open('/content/drive/MyDrive/Universidad/Ciencia de Datos/7mo Semestre/2023_1-Lenguaje_Natural/Tareas/T3/ultimaInocencia.txt').read()\n",
        "text_1 = text_1.replace('\\n', ' ')\n",
        "text_1 = text_1.replace('  ', ' ')\n",
        "text_1"
      ],
      "metadata": {
        "colab": {
          "base_uri": "https://localhost:8080/",
          "height": 53
        },
        "id": "QDW3OXJsZ32b",
        "outputId": "b3a2b5ec-9d6a-4f31-825a-1807748dbeb1"
      },
      "execution_count": 4,
      "outputs": [
        {
          "output_type": "execute_result",
          "data": {
            "text/plain": [
              "'Partir en cuerpo y alma partir. Partir deshacerse de las miradas piedras opresoras que duermen en la garganta. He de partir no más inercia bajo el sol no más sangre anonadada no más fila para morir. He de partir Pero arremete ¡viajera!'"
            ],
            "application/vnd.google.colaboratory.intrinsic+json": {
              "type": "string"
            }
          },
          "metadata": {},
          "execution_count": 4
        }
      ]
    },
    {
      "cell_type": "code",
      "source": [
        "# Vamos a abrir y leer los datos\n",
        "text_2 = open('/content/drive/MyDrive/Universidad/Ciencia de Datos/7mo Semestre/2023_1-Lenguaje_Natural/Tareas/T3/DulceMaríaLoynaz.txt').read()\n",
        "text_2 = text_2.replace('\\n', ' ')\n",
        "text_2 = text_2.replace('  ', ' ')\n",
        "text_2"
      ],
      "metadata": {
        "colab": {
          "base_uri": "https://localhost:8080/",
          "height": 70
        },
        "id": "gJfbmLy-j4g2",
        "outputId": "6f2575cb-bebe-4ea8-af8f-857efaf0a763"
      },
      "execution_count": 5,
      "outputs": [
        {
          "output_type": "execute_result",
          "data": {
            "text/plain": [
              "'“He de amoldarme a ti como el río a su cauce, como el mar a su playa, como la espada a su vaina. He de correr en ti, he de cantar en ti, he de guardarme en ti ya para siempre. Fuera de ti ha de sobrarme el mundo como le sobra al río el aire, al mar la tierra, a la espada la mesa del convite. Dentro de ti no ha de faltarme blandura de limo para mi corriente, perfil de viento para mis olas, ceñidura y reposo para mi acero.”'"
            ],
            "application/vnd.google.colaboratory.intrinsic+json": {
              "type": "string"
            }
          },
          "metadata": {},
          "execution_count": 5
        }
      ]
    },
    {
      "cell_type": "code",
      "source": [
        "def token(text):\n",
        "    '''\n",
        "    Función que recibe una cadena de texto y regresa una lista con los tokens, \n",
        "    el número de tokens, y el número de Types\n",
        "    '''\n",
        "    # Convertimos todo a minusculas\n",
        "    text = text.lower()\n",
        "    # Separamos las palabras inicialmente\n",
        "    list_ = text.split()\n",
        "    # Gemeramos una lista vacía para ingresar los signos\n",
        "    final = []\n",
        "    # Creamos un ciclo for para que itere sobre cada palabra, y en caso de que aplique\n",
        "    # extraiga los signos\n",
        "    for i in text.split():\n",
        "      final = final + re.split('(\\W)', i)\n",
        "\n",
        "    # Eliminamos los residuos (cadenas sin nada dentro)\n",
        "    token_ = list(filter(('').__ne__, final))\n",
        "\n",
        "    return(token_, len(token_), len(set(token_)))"
      ],
      "metadata": {
        "id": "mTRQY-bSd0Xg"
      },
      "execution_count": 6,
      "outputs": []
    },
    {
      "cell_type": "code",
      "source": [
        "token_1, to_1, ty_1 = token(text_1)\n",
        "print('Para el texto número uno (ultimaInocencia.txt) tenemos: \\n')\n",
        "print(f'Tokens: {to_1}\\nTypes: {ty_1}')"
      ],
      "metadata": {
        "colab": {
          "base_uri": "https://localhost:8080/"
        },
        "id": "HzXrYbMMjfj7",
        "outputId": "2d47b013-4e0b-48d7-8f68-757fb6f9ec5a"
      },
      "execution_count": 7,
      "outputs": [
        {
          "output_type": "stream",
          "name": "stdout",
          "text": [
            "Para el texto número uno (ultimaInocencia.txt) tenemos: \n",
            "\n",
            "Tokens: 47\n",
            "Types: 33\n"
          ]
        }
      ]
    },
    {
      "cell_type": "code",
      "source": [
        "token_2, to_2, ty_2 = token(text_2)\n",
        "print('Para el texto número dos (DulceMaríaLoynaz.txt) tenemos: \\n')\n",
        "print(f'Tokens: {to_2}\\nTypes: {ty_2}')"
      ],
      "metadata": {
        "colab": {
          "base_uri": "https://localhost:8080/"
        },
        "id": "xAFtlVwOjzoF",
        "outputId": "30ab8e34-339d-4804-827d-3398c9225a65"
      },
      "execution_count": 8,
      "outputs": [
        {
          "output_type": "stream",
          "name": "stdout",
          "text": [
            "Para el texto número dos (DulceMaríaLoynaz.txt) tenemos: \n",
            "\n",
            "Tokens: 106\n",
            "Types: 53\n"
          ]
        }
      ]
    }
  ]
}