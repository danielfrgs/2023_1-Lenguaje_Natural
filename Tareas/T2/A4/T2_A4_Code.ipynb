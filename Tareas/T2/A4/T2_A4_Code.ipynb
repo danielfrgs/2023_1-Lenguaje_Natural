{
  "nbformat": 4,
  "nbformat_minor": 0,
  "metadata": {
    "colab": {
      "name": "T2-A4_Code",
      "provenance": [],
      "authorship_tag": "ABX9TyMLz53j6oQjEKeZ4XbGRZnj",
      "include_colab_link": true
    },
    "kernelspec": {
      "name": "python3",
      "display_name": "Python 3"
    },
    "language_info": {
      "name": "python"
    }
  },
  "cells": [
    {
      "cell_type": "markdown",
      "metadata": {
        "id": "view-in-github",
        "colab_type": "text"
      },
      "source": [
        "<a href=\"https://colab.research.google.com/github/danielfrgs/2023_1-Lenguaje_Natural/blob/main/Tareas/T2/A4/T2_A4_Code.ipynb\" target=\"_parent\"><img src=\"https://colab.research.google.com/assets/colab-badge.svg\" alt=\"Open In Colab\"/></a>"
      ]
    },
    {
      "cell_type": "code",
      "execution_count": 1,
      "metadata": {
        "colab": {
          "base_uri": "https://localhost:8080/"
        },
        "id": "jevDSpQFThxO",
        "outputId": "1e2ff338-07ad-4008-955f-7033f04aad32"
      },
      "outputs": [
        {
          "output_type": "stream",
          "name": "stdout",
          "text": [
            "Mounted at /content/drive\n"
          ]
        }
      ],
      "source": [
        "from google.colab import drive\n",
        "drive.mount('/content/drive')"
      ]
    },
    {
      "cell_type": "code",
      "source": [
        "import pandas as pd\n",
        "import re\n",
        "import numpy as np"
      ],
      "metadata": {
        "id": "eQHKtKUiYVGB"
      },
      "execution_count": 30,
      "outputs": []
    },
    {
      "cell_type": "markdown",
      "source": [
        "# Tema 2 | Actividad 4\n",
        "\n",
        "Fragoso Alvarado Daniel"
      ],
      "metadata": {
        "id": "0-TmTks4wG-T"
      }
    },
    {
      "cell_type": "code",
      "source": [
        "# Vamos a abrir y leer los datos de forma que cada renglón sea un registro de una \n",
        "# lista, para poder iterar despues.\n",
        "with open('/content/drive/MyDrive/Universidad/Ciencia de Datos/7mo Semestre/2023_1-Lenguaje_Natural/Tareas/T2/A4/dates.txt') as f:\n",
        "    contents = f.readlines()"
      ],
      "metadata": {
        "id": "WCGHNlliY4kk"
      },
      "execution_count": 8,
      "outputs": []
    },
    {
      "cell_type": "code",
      "source": [
        "print(f'En el Dataset hay en total: {len(contents)} renglones, por lo que se espera la extracción de {len(contents)} fechas.')"
      ],
      "metadata": {
        "colab": {
          "base_uri": "https://localhost:8080/"
        },
        "id": "UriZdvQUbKrp",
        "outputId": "25f6dbb6-fe09-4934-884e-0ace0008f678"
      },
      "execution_count": 12,
      "outputs": [
        {
          "output_type": "stream",
          "name": "stdout",
          "text": [
            "En el Dataset hay en total: 500 renglones, por lo que se espera la extracción de 500 fechas.\n"
          ]
        }
      ]
    },
    {
      "cell_type": "markdown",
      "source": [
        "Ahora vamos a generar una expresión regular para cada formato de fecha que encontremos. Cada expresión regular vamos a almacenarla en una cadena, que usaremos déspues para aplicarlas. \n",
        "\n",
        "1. De la forma $xx/xx/xx$, $xx/xx/xxxx$ & $x/x/xx$ \n",
        "\n",
        "Para los primeros digitos que hacen referencia a un mes pueden empezar con cero, o ser simplemente números entre el 1 y el 9, por ello agregamos \"0?[0-9]\", tambien puede ser el caso de que sea un número del 10 al 12, por lo que agregamos una opción \"[12][0-9]\"\n",
        "\n",
        "También puede estar separada por una diagonal o un guión. por lo que agregamos \"(/|-)\"\n",
        "\n",
        "Luego, seleccionamos el día, puede ser solo un número entre el 1-9, y puede o no empezar con 0: \"0?[1-9]\", luego puede ser un número entre 10 y 29: \"[1-2][0-9]\", y finalemnte puede darse el casod e ser un valor entre 30 y 31, y especificamos para evitar errores: \"3[0-2]\". Volvemos a agregar el separador: \"(/|-)\".\n",
        "\n",
        "La parte del año puede ser un año completo de 4 digitos, o solo dos digitos, en caso de ser un año completo debe de empezar con 18, 19 o 20, y seguirle dos digitos, o solo dos digitos: \"(18|19|20)\\d\\d|\\d\\d\""
      ],
      "metadata": {
        "id": "shBtWQYLc2_0"
      }
    },
    {
      "cell_type": "code",
      "source": [
        "regex1 = r\"(0?[0-9]|[12][0-9])(/|-)(0?[1-9]|[1-2][0-9]|3[0-2])(/|-)((18|19|20)\\d\\d|\\d\\d)\""
      ],
      "metadata": {
        "id": "H8UMrBDrbMHQ"
      },
      "execution_count": 17,
      "outputs": []
    },
    {
      "cell_type": "markdown",
      "source": [
        "2. De la forma $Mar-20-2009$; $Mar$ $20$, $2009$; $March$ $20$, $2009$; $Mar.$ $20$, $2009$; $Mar$ $20$ $2009$;\n",
        "\n",
        "Primero, vamos a hacer la expresión para el mes; puede ser cualquier mes entre enero y diciembre, y puede o no tener abreviación (según el nombre en inglés), por lo que agregamos: \"?:Jan(?:uary)?|Feb(?:ruary)?|Mar(?:ch)?|Apr(?:il)?|May|Jun(?:e)?|Jul(?:y)?|Aug(?:ust)?|Sep(?:tember)?|Oct(?:ober)?|Nov(?:enver)?|Dec(?:ember)?\"\n",
        "\n",
        "Para la separación, esta puede darse por un guión, un punto o un espacio, por lo que agregamos: \"(?:|.?)( |-)\"\n",
        "\n",
        "El día puede ser un numero entre el 0-31, con o no inicio en cero: \"[0-9][0-9]|0?[0-9]\".\n",
        "\n",
        "La separación puede ser un espacio, una coma, o un guión: \"(?: |,|-?)(?: | ?)\"\n",
        "\n",
        "Y finalmente el año puede ser un año completo de 4 digitos, o solo dos digitos, en caso de ser un año completo debe de empezar con 18, 19 o 20, y seguirle dos digitos, o solo dos digitos: \"(18|19|20)\\d\\d|\\d\\d\"."
      ],
      "metadata": {
        "id": "7ttwPPMdntOo"
      }
    },
    {
      "cell_type": "code",
      "source": [
        "regex2 = r\"(?:Jan(?:uary)?|Feb(?:ruary)?|Mar(?:ch)?|Apr(?:il)?|May|Jun(?:e)?|Jul(?:y)?|Aug(?:ust)?|Sep(?:tember)?|Oct(?:ober)?|Nov(?:enver)?|Dec(?:ember)?)(?:|.?)( |-)([0-9][0-9]|0?[0-9])(?: |,|-?)(?: | ?)(((18|19|20)\\d\\d))\""
      ],
      "metadata": {
        "id": "5ugK59_RoTV5"
      },
      "execution_count": 18,
      "outputs": []
    },
    {
      "cell_type": "markdown",
      "source": [
        "3. De la forma $12$ $March$ $2004$; $21$ $Oct$ $1977$\n",
        "\n",
        "La estructura de esta es igual a la anterior solo en orden diferente:\n"
      ],
      "metadata": {
        "id": "VYZfDgIWq_fw"
      }
    },
    {
      "cell_type": "code",
      "source": [
        "regex3 = r\"([0-9][0-9]|0?[0-9])(?:|.?)( |-)(?:Jan(?:uary)?|Feb(?:ruary)?|Mar(?:ch)?|Apr(?:il)?|May|Jun(?:e)?|Jul(?:y)?|Aug(?:ust)?|Sep(?:tember)?|Oct(?:ober)?|Nov(?:enver)?|Dec(?:ember)?)(?: |,|-?)(?: | ?)(((18|19|20)\\d\\d))\""
      ],
      "metadata": {
        "id": "kFoRY2a1q_Hy"
      },
      "execution_count": 19,
      "outputs": []
    },
    {
      "cell_type": "markdown",
      "source": [
        "4. De la forma $Feb$ $2009$; $Sep$ $2009$; $Oct$ $2010$\n",
        "\n",
        "Volvemos a copiar la esriutura anterior de la expresióm solo que eliminando la parte del día:"
      ],
      "metadata": {
        "id": "t-NJeG8btb1v"
      }
    },
    {
      "cell_type": "code",
      "source": [
        "regex4 = r\"(Jan(?:uary)?|Feb(?:ruary)?|Mar(?:ch)?|Apr(?:il)?|May|Jun(?:e)?|Jul(?:y)?|Aug(?:ust)?|Sep(?:tember)?|Oct(?:ober)?|Nov(?:enver)?|Dec(?:ember))(?: |,|-?)(?: | ?)(((18|19|20)\\d\\d))\""
      ],
      "metadata": {
        "id": "6cE-f_L1tsp8"
      },
      "execution_count": 14,
      "outputs": []
    },
    {
      "cell_type": "markdown",
      "source": [
        "5. De la forma $6/2008$; $12/2009$\n",
        "\n",
        "Vamos a copiar la expresión del primer formato omitiendo la parte del día:"
      ],
      "metadata": {
        "id": "ag8iFsUXvNRo"
      }
    },
    {
      "cell_type": "code",
      "source": [
        "regex5 = r\"([0-9][0-9]|0?[0-9])/((18|19|20)\\d\\d|\\d\\d)\""
      ],
      "metadata": {
        "id": "jv7_IovLtwn3"
      },
      "execution_count": 20,
      "outputs": []
    },
    {
      "cell_type": "markdown",
      "source": [
        "6. De la forma $2009$; $2010$.\n",
        "\n",
        "Vamos a copiar la expresión para el año de la expresión anterior:"
      ],
      "metadata": {
        "id": "QToDmqbyvtCQ"
      }
    },
    {
      "cell_type": "code",
      "source": [
        "regex6 = r\"((18|19|20)\\d\\d)\""
      ],
      "metadata": {
        "id": "5SHSTBepv5e2"
      },
      "execution_count": 15,
      "outputs": []
    },
    {
      "cell_type": "markdown",
      "source": [
        "## Aplicación\n",
        "\n",
        "Primero vamos a generar una lista con las expresioes regulares creadas, para poder iterar sobre estas:"
      ],
      "metadata": {
        "id": "4N1Ab5MTwEEc"
      }
    },
    {
      "cell_type": "code",
      "source": [
        "# Generamos una lista con las expresiones regulares\n",
        "regex = [regex1, regex2, regex3, regex4, regex5, regex6]"
      ],
      "metadata": {
        "id": "7f-GS6wdv8Oj"
      },
      "execution_count": 21,
      "outputs": []
    },
    {
      "cell_type": "code",
      "source": [
        "# Vamos a generar una lista vacia para poder agregar las fechas extraidas a esta:\n",
        "fechas = []\n",
        "\n",
        "# Vamos a iterar sobre la lista de resgitros\n",
        "for i in contents:\n",
        "  j = 0\n",
        "  k = 0\n",
        "  lis = []\n",
        "  # Vamos a correr un ciclo while hasta que se haga match con alguna fecha\n",
        "  while k != 1:\n",
        "      matches = re.finditer(regex[j], i)\n",
        "      # Al hacer match vamos a obtener el resgistro y concatenarlo a \n",
        "      # una lista\n",
        "      for matchNum, match in enumerate(matches, start=1):\n",
        "          lis = [match.group()]\n",
        "      k = len(lis)\n",
        "      j += 1\n",
        "      # En caso de que no se haga match despues de las 6 expresiones, salimos.\n",
        "      if j == 6:\n",
        "          k = 1\n",
        "  fechas = fechas + lis"
      ],
      "metadata": {
        "id": "sWK_vfbywA-O"
      },
      "execution_count": 26,
      "outputs": []
    },
    {
      "cell_type": "code",
      "source": [
        "print(f'La cantidad de fechas extraidas es: {len(fechas)}')"
      ],
      "metadata": {
        "colab": {
          "base_uri": "https://localhost:8080/"
        },
        "id": "tH5pCe7dxps3",
        "outputId": "a352e4d9-5709-444b-f237-243234031f6c"
      },
      "execution_count": 27,
      "outputs": [
        {
          "output_type": "stream",
          "name": "stdout",
          "text": [
            "La cantidad de fechas extraidas es: 500\n"
          ]
        }
      ]
    },
    {
      "cell_type": "code",
      "source": [
        "# Veamos como se ven:\n",
        "\n",
        "fechas[:10]"
      ],
      "metadata": {
        "colab": {
          "base_uri": "https://localhost:8080/"
        },
        "id": "AqBmX3PxxqrZ",
        "outputId": "ecf4d740-5857-4198-c83c-47fd4de2cd7d"
      },
      "execution_count": 28,
      "outputs": [
        {
          "output_type": "execute_result",
          "data": {
            "text/plain": [
              "['03/25/93',\n",
              " '6/18/85',\n",
              " '7/8/71',\n",
              " '9/27/75',\n",
              " '2/6/96',\n",
              " '7/06/79',\n",
              " '5/18/78',\n",
              " '10/24/89',\n",
              " '3/7/86',\n",
              " '4/10/71']"
            ]
          },
          "metadata": {},
          "execution_count": 28
        }
      ]
    },
    {
      "cell_type": "code",
      "source": [
        "# Vamos a transformar a fechas\n",
        "\n",
        "# La función ya asume que si falta un día toma el primero del mes,. y si flata un mes toma el primer dia del primer mes del año.\n",
        "fechas = pd.to_datetime(fechas)"
      ],
      "metadata": {
        "id": "lVTIV4HNyJCP"
      },
      "execution_count": 34,
      "outputs": []
    },
    {
      "cell_type": "markdown",
      "source": [
        "En la transformación debido a que no se especifica los valores de los años o meses, la frunción crea datos incosnsitentes, enctonces, vamos a buscar aquellos años que sean mayores al año 2022 (actual) y vamos a restarle 100 años:"
      ],
      "metadata": {
        "id": "Pd4NVlLdzB3R"
      }
    },
    {
      "cell_type": "code",
      "source": [
        "dates = np.where(fechas.year > 2022, fechas - pd.offsets.DateOffset(years=100), fechas)"
      ],
      "metadata": {
        "id": "UjbS0omJy-fC"
      },
      "execution_count": 31,
      "outputs": []
    },
    {
      "cell_type": "markdown",
      "source": [
        "DateOffset permite restar 100 años a un dato que ya es del tipo datetime:"
      ],
      "metadata": {
        "id": "9fckS7R10mCA"
      }
    },
    {
      "cell_type": "code",
      "source": [
        "# Finalmmente Ordenammos\n",
        "dates = sorted(dates)\n",
        "dates"
      ],
      "metadata": {
        "colab": {
          "base_uri": "https://localhost:8080/"
        },
        "id": "0Or1uviKzwHD",
        "outputId": "d164f913-01f0-4f33-b9a1-cb5cc2dc80ca"
      },
      "execution_count": 33,
      "outputs": [
        {
          "output_type": "execute_result",
          "data": {
            "text/plain": [
              "[numpy.datetime64('1971-04-10T00:00:00.000000000'),\n",
              " numpy.datetime64('1971-05-18T00:00:00.000000000'),\n",
              " numpy.datetime64('1971-07-08T00:00:00.000000000'),\n",
              " numpy.datetime64('1971-07-11T00:00:00.000000000'),\n",
              " numpy.datetime64('1971-09-12T00:00:00.000000000'),\n",
              " numpy.datetime64('1972-01-01T00:00:00.000000000'),\n",
              " numpy.datetime64('1972-01-13T00:00:00.000000000'),\n",
              " numpy.datetime64('1972-01-26T00:00:00.000000000'),\n",
              " numpy.datetime64('1972-05-06T00:00:00.000000000'),\n",
              " numpy.datetime64('1972-05-13T00:00:00.000000000'),\n",
              " numpy.datetime64('1972-06-10T00:00:00.000000000'),\n",
              " numpy.datetime64('1972-06-15T00:00:00.000000000'),\n",
              " numpy.datetime64('1972-07-20T00:00:00.000000000'),\n",
              " numpy.datetime64('1972-10-04T00:00:00.000000000'),\n",
              " numpy.datetime64('1972-11-30T00:00:00.000000000'),\n",
              " numpy.datetime64('1973-01-01T00:00:00.000000000'),\n",
              " numpy.datetime64('1973-02-01T00:00:00.000000000'),\n",
              " numpy.datetime64('1973-02-01T00:00:00.000000000'),\n",
              " numpy.datetime64('1973-02-14T00:00:00.000000000'),\n",
              " numpy.datetime64('1973-03-01T00:00:00.000000000'),\n",
              " numpy.datetime64('1973-03-01T00:00:00.000000000'),\n",
              " numpy.datetime64('1973-04-01T00:00:00.000000000'),\n",
              " numpy.datetime64('1973-06-01T00:00:00.000000000'),\n",
              " numpy.datetime64('1973-07-01T00:00:00.000000000'),\n",
              " numpy.datetime64('1973-10-01T00:00:00.000000000'),\n",
              " numpy.datetime64('1973-12-01T00:00:00.000000000'),\n",
              " numpy.datetime64('1974-01-01T00:00:00.000000000'),\n",
              " numpy.datetime64('1974-02-01T00:00:00.000000000'),\n",
              " numpy.datetime64('1974-02-24T00:00:00.000000000'),\n",
              " numpy.datetime64('1974-03-01T00:00:00.000000000'),\n",
              " numpy.datetime64('1974-03-05T00:00:00.000000000'),\n",
              " numpy.datetime64('1974-03-06T00:00:00.000000000'),\n",
              " numpy.datetime64('1974-04-01T00:00:00.000000000'),\n",
              " numpy.datetime64('1974-04-11T00:00:00.000000000'),\n",
              " numpy.datetime64('1974-04-12T00:00:00.000000000'),\n",
              " numpy.datetime64('1974-05-04T00:00:00.000000000'),\n",
              " numpy.datetime64('1974-05-26T00:00:00.000000000'),\n",
              " numpy.datetime64('1974-06-01T00:00:00.000000000'),\n",
              " numpy.datetime64('1974-06-13T00:00:00.000000000'),\n",
              " numpy.datetime64('1974-07-07T00:00:00.000000000'),\n",
              " numpy.datetime64('1974-08-01T00:00:00.000000000'),\n",
              " numpy.datetime64('1974-09-01T00:00:00.000000000'),\n",
              " numpy.datetime64('1974-09-10T00:00:00.000000000'),\n",
              " numpy.datetime64('1974-10-10T00:00:00.000000000'),\n",
              " numpy.datetime64('1974-10-14T00:00:00.000000000'),\n",
              " numpy.datetime64('1975-01-01T00:00:00.000000000'),\n",
              " numpy.datetime64('1975-02-28T00:00:00.000000000'),\n",
              " numpy.datetime64('1975-03-01T00:00:00.000000000'),\n",
              " numpy.datetime64('1975-04-09T00:00:00.000000000'),\n",
              " numpy.datetime64('1975-07-01T00:00:00.000000000'),\n",
              " numpy.datetime64('1975-07-29T00:00:00.000000000'),\n",
              " numpy.datetime64('1975-08-01T00:00:00.000000000'),\n",
              " numpy.datetime64('1975-08-18T00:00:00.000000000'),\n",
              " numpy.datetime64('1975-09-01T00:00:00.000000000'),\n",
              " numpy.datetime64('1975-09-01T00:00:00.000000000'),\n",
              " numpy.datetime64('1975-09-27T00:00:00.000000000'),\n",
              " numpy.datetime64('1975-11-22T00:00:00.000000000'),\n",
              " numpy.datetime64('1975-12-01T00:00:00.000000000'),\n",
              " numpy.datetime64('1975-12-14T00:00:00.000000000'),\n",
              " numpy.datetime64('1976-01-01T00:00:00.000000000'),\n",
              " numpy.datetime64('1976-02-01T00:00:00.000000000'),\n",
              " numpy.datetime64('1976-02-11T00:00:00.000000000'),\n",
              " numpy.datetime64('1976-03-01T00:00:00.000000000'),\n",
              " numpy.datetime64('1976-03-10T00:00:00.000000000'),\n",
              " numpy.datetime64('1976-04-01T00:00:00.000000000'),\n",
              " numpy.datetime64('1976-06-01T00:00:00.000000000'),\n",
              " numpy.datetime64('1976-09-02T00:00:00.000000000'),\n",
              " numpy.datetime64('1976-09-20T00:00:00.000000000'),\n",
              " numpy.datetime64('1976-10-13T00:00:00.000000000'),\n",
              " numpy.datetime64('1977-01-01T00:00:00.000000000'),\n",
              " numpy.datetime64('1977-01-01T00:00:00.000000000'),\n",
              " numpy.datetime64('1977-02-01T00:00:00.000000000'),\n",
              " numpy.datetime64('1977-02-01T00:00:00.000000000'),\n",
              " numpy.datetime64('1977-04-01T00:00:00.000000000'),\n",
              " numpy.datetime64('1977-05-01T00:00:00.000000000'),\n",
              " numpy.datetime64('1977-05-04T00:00:00.000000000'),\n",
              " numpy.datetime64('1977-05-21T00:00:00.000000000'),\n",
              " numpy.datetime64('1977-06-20T00:00:00.000000000'),\n",
              " numpy.datetime64('1977-07-01T00:00:00.000000000'),\n",
              " numpy.datetime64('1977-07-11T00:00:00.000000000'),\n",
              " numpy.datetime64('1977-10-21T00:00:00.000000000'),\n",
              " numpy.datetime64('1978-01-01T00:00:00.000000000'),\n",
              " numpy.datetime64('1978-01-01T00:00:00.000000000'),\n",
              " numpy.datetime64('1978-01-01T00:00:00.000000000'),\n",
              " numpy.datetime64('1978-02-01T00:00:00.000000000'),\n",
              " numpy.datetime64('1978-02-02T00:00:00.000000000'),\n",
              " numpy.datetime64('1978-02-03T00:00:00.000000000'),\n",
              " numpy.datetime64('1978-03-01T00:00:00.000000000'),\n",
              " numpy.datetime64('1978-05-18T00:00:00.000000000'),\n",
              " numpy.datetime64('1978-07-26T00:00:00.000000000'),\n",
              " numpy.datetime64('1978-08-04T00:00:00.000000000'),\n",
              " numpy.datetime64('1978-08-11T00:00:00.000000000'),\n",
              " numpy.datetime64('1978-10-01T00:00:00.000000000'),\n",
              " numpy.datetime64('1978-10-21T00:00:00.000000000'),\n",
              " numpy.datetime64('1978-12-01T00:00:00.000000000'),\n",
              " numpy.datetime64('1978-12-01T00:00:00.000000000'),\n",
              " numpy.datetime64('1979-01-01T00:00:00.000000000'),\n",
              " numpy.datetime64('1979-04-01T00:00:00.000000000'),\n",
              " numpy.datetime64('1979-05-01T00:00:00.000000000'),\n",
              " numpy.datetime64('1979-07-06T00:00:00.000000000'),\n",
              " numpy.datetime64('1979-08-01T00:00:00.000000000'),\n",
              " numpy.datetime64('1979-08-01T00:00:00.000000000'),\n",
              " numpy.datetime64('1979-09-06T00:00:00.000000000'),\n",
              " numpy.datetime64('1979-10-01T00:00:00.000000000'),\n",
              " numpy.datetime64('1979-10-21T00:00:00.000000000'),\n",
              " numpy.datetime64('1979-11-01T00:00:00.000000000'),\n",
              " numpy.datetime64('1980-01-01T00:00:00.000000000'),\n",
              " numpy.datetime64('1980-03-01T00:00:00.000000000'),\n",
              " numpy.datetime64('1980-03-12T00:00:00.000000000'),\n",
              " numpy.datetime64('1980-04-22T00:00:00.000000000'),\n",
              " numpy.datetime64('1980-05-01T00:00:00.000000000'),\n",
              " numpy.datetime64('1980-09-01T00:00:00.000000000'),\n",
              " numpy.datetime64('1980-10-01T00:00:00.000000000'),\n",
              " numpy.datetime64('1980-10-01T00:00:00.000000000'),\n",
              " numpy.datetime64('1980-10-18T00:00:00.000000000'),\n",
              " numpy.datetime64('1981-01-01T00:00:00.000000000'),\n",
              " numpy.datetime64('1981-01-14T00:00:00.000000000'),\n",
              " numpy.datetime64('1981-01-14T00:00:00.000000000'),\n",
              " numpy.datetime64('1981-02-18T00:00:00.000000000'),\n",
              " numpy.datetime64('1981-03-01T00:00:00.000000000'),\n",
              " numpy.datetime64('1981-06-01T00:00:00.000000000'),\n",
              " numpy.datetime64('1981-06-29T00:00:00.000000000'),\n",
              " numpy.datetime64('1981-07-01T00:00:00.000000000'),\n",
              " numpy.datetime64('1981-07-01T00:00:00.000000000'),\n",
              " numpy.datetime64('1981-08-09T00:00:00.000000000'),\n",
              " numpy.datetime64('1981-08-14T00:00:00.000000000'),\n",
              " numpy.datetime64('1981-09-01T00:00:00.000000000'),\n",
              " numpy.datetime64('1981-09-19T00:00:00.000000000'),\n",
              " numpy.datetime64('1981-10-01T00:00:00.000000000'),\n",
              " numpy.datetime64('1982-01-01T00:00:00.000000000'),\n",
              " numpy.datetime64('1982-04-12T00:00:00.000000000'),\n",
              " numpy.datetime64('1982-04-13T00:00:00.000000000'),\n",
              " numpy.datetime64('1982-05-26T00:00:00.000000000'),\n",
              " numpy.datetime64('1982-07-01T00:00:00.000000000'),\n",
              " numpy.datetime64('1982-07-04T00:00:00.000000000'),\n",
              " numpy.datetime64('1982-08-16T00:00:00.000000000'),\n",
              " numpy.datetime64('1982-08-20T00:00:00.000000000'),\n",
              " numpy.datetime64('1982-09-22T00:00:00.000000000'),\n",
              " numpy.datetime64('1982-10-16T00:00:00.000000000'),\n",
              " numpy.datetime64('1982-11-01T00:00:00.000000000'),\n",
              " numpy.datetime64('1982-12-08T00:00:00.000000000'),\n",
              " numpy.datetime64('1982-12-10T00:00:00.000000000'),\n",
              " numpy.datetime64('1983-01-01T00:00:00.000000000'),\n",
              " numpy.datetime64('1983-01-01T00:00:00.000000000'),\n",
              " numpy.datetime64('1983-01-27T00:00:00.000000000'),\n",
              " numpy.datetime64('1983-02-01T00:00:00.000000000'),\n",
              " numpy.datetime64('1983-02-01T00:00:00.000000000'),\n",
              " numpy.datetime64('1983-02-10T00:00:00.000000000'),\n",
              " numpy.datetime64('1983-03-01T00:00:00.000000000'),\n",
              " numpy.datetime64('1983-03-15T00:00:00.000000000'),\n",
              " numpy.datetime64('1983-04-01T00:00:00.000000000'),\n",
              " numpy.datetime64('1983-05-01T00:00:00.000000000'),\n",
              " numpy.datetime64('1983-07-25T00:00:00.000000000'),\n",
              " numpy.datetime64('1983-08-06T00:00:00.000000000'),\n",
              " numpy.datetime64('1983-08-22T00:00:00.000000000'),\n",
              " numpy.datetime64('1983-09-01T00:00:00.000000000'),\n",
              " numpy.datetime64('1983-10-21T00:00:00.000000000'),\n",
              " numpy.datetime64('1983-11-14T00:00:00.000000000'),\n",
              " numpy.datetime64('1984-01-01T00:00:00.000000000'),\n",
              " numpy.datetime64('1984-07-25T00:00:00.000000000'),\n",
              " numpy.datetime64('1984-09-01T00:00:00.000000000'),\n",
              " numpy.datetime64('1984-09-01T00:00:00.000000000'),\n",
              " numpy.datetime64('1984-09-17T00:00:00.000000000'),\n",
              " numpy.datetime64('1984-11-01T00:00:00.000000000'),\n",
              " numpy.datetime64('1985-01-01T00:00:00.000000000'),\n",
              " numpy.datetime64('1985-02-11T00:00:00.000000000'),\n",
              " numpy.datetime64('1985-03-31T00:00:00.000000000'),\n",
              " numpy.datetime64('1985-04-01T00:00:00.000000000'),\n",
              " numpy.datetime64('1985-05-11T00:00:00.000000000'),\n",
              " numpy.datetime64('1985-06-15T00:00:00.000000000'),\n",
              " numpy.datetime64('1985-06-18T00:00:00.000000000'),\n",
              " numpy.datetime64('1985-07-01T00:00:00.000000000'),\n",
              " numpy.datetime64('1985-07-01T00:00:00.000000000'),\n",
              " numpy.datetime64('1985-08-17T00:00:00.000000000'),\n",
              " numpy.datetime64('1985-09-01T00:00:00.000000000'),\n",
              " numpy.datetime64('1985-10-10T00:00:00.000000000'),\n",
              " numpy.datetime64('1985-11-03T00:00:00.000000000'),\n",
              " numpy.datetime64('1986-01-01T00:00:00.000000000'),\n",
              " numpy.datetime64('1986-01-24T00:00:00.000000000'),\n",
              " numpy.datetime64('1986-03-01T00:00:00.000000000'),\n",
              " numpy.datetime64('1986-03-07T00:00:00.000000000'),\n",
              " numpy.datetime64('1986-04-01T00:00:00.000000000'),\n",
              " numpy.datetime64('1986-05-01T00:00:00.000000000'),\n",
              " numpy.datetime64('1986-07-01T00:00:00.000000000'),\n",
              " numpy.datetime64('1986-07-18T00:00:00.000000000'),\n",
              " numpy.datetime64('1986-07-27T00:00:00.000000000'),\n",
              " numpy.datetime64('1986-08-01T00:00:00.000000000'),\n",
              " numpy.datetime64('1986-10-01T00:00:00.000000000'),\n",
              " numpy.datetime64('1986-10-01T00:00:00.000000000'),\n",
              " numpy.datetime64('1986-10-13T00:00:00.000000000'),\n",
              " numpy.datetime64('1986-10-24T00:00:00.000000000'),\n",
              " numpy.datetime64('1986-11-01T00:00:00.000000000'),\n",
              " numpy.datetime64('1986-12-01T00:00:00.000000000'),\n",
              " numpy.datetime64('1986-12-26T00:00:00.000000000'),\n",
              " numpy.datetime64('1987-01-01T00:00:00.000000000'),\n",
              " numpy.datetime64('1987-01-01T00:00:00.000000000'),\n",
              " numpy.datetime64('1987-01-21T00:00:00.000000000'),\n",
              " numpy.datetime64('1987-04-12T00:00:00.000000000'),\n",
              " numpy.datetime64('1987-05-01T00:00:00.000000000'),\n",
              " numpy.datetime64('1987-06-24T00:00:00.000000000'),\n",
              " numpy.datetime64('1987-06-28T00:00:00.000000000'),\n",
              " numpy.datetime64('1987-07-01T00:00:00.000000000'),\n",
              " numpy.datetime64('1987-10-11T00:00:00.000000000'),\n",
              " numpy.datetime64('1987-10-25T00:00:00.000000000'),\n",
              " numpy.datetime64('1987-12-04T00:00:00.000000000'),\n",
              " numpy.datetime64('1987-12-05T00:00:00.000000000'),\n",
              " numpy.datetime64('1988-01-01T00:00:00.000000000'),\n",
              " numpy.datetime64('1988-04-01T00:00:00.000000000'),\n",
              " numpy.datetime64('1988-05-24T00:00:00.000000000'),\n",
              " numpy.datetime64('1988-08-01T00:00:00.000000000'),\n",
              " numpy.datetime64('1988-08-01T00:00:00.000000000'),\n",
              " numpy.datetime64('1988-11-11T00:00:00.000000000'),\n",
              " numpy.datetime64('1988-12-04T00:00:00.000000000'),\n",
              " numpy.datetime64('1988-12-09T00:00:00.000000000'),\n",
              " numpy.datetime64('1989-01-01T00:00:00.000000000'),\n",
              " numpy.datetime64('1989-02-01T00:00:00.000000000'),\n",
              " numpy.datetime64('1989-04-01T00:00:00.000000000'),\n",
              " numpy.datetime64('1989-04-05T00:00:00.000000000'),\n",
              " numpy.datetime64('1989-04-13T00:00:00.000000000'),\n",
              " numpy.datetime64('1989-05-14T00:00:00.000000000'),\n",
              " numpy.datetime64('1989-05-15T00:00:00.000000000'),\n",
              " numpy.datetime64('1989-06-01T00:00:00.000000000'),\n",
              " numpy.datetime64('1989-07-01T00:00:00.000000000'),\n",
              " numpy.datetime64('1989-08-01T00:00:00.000000000'),\n",
              " numpy.datetime64('1989-08-11T00:00:00.000000000'),\n",
              " numpy.datetime64('1989-08-26T00:00:00.000000000'),\n",
              " numpy.datetime64('1989-09-09T00:00:00.000000000'),\n",
              " numpy.datetime64('1989-09-22T00:00:00.000000000'),\n",
              " numpy.datetime64('1989-10-24T00:00:00.000000000'),\n",
              " numpy.datetime64('1989-12-01T00:00:00.000000000'),\n",
              " numpy.datetime64('1990-01-01T00:00:00.000000000'),\n",
              " numpy.datetime64('1990-01-01T00:00:00.000000000'),\n",
              " numpy.datetime64('1990-01-18T00:00:00.000000000'),\n",
              " numpy.datetime64('1990-02-10T00:00:00.000000000'),\n",
              " numpy.datetime64('1990-03-01T00:00:00.000000000'),\n",
              " numpy.datetime64('1990-03-03T00:00:00.000000000'),\n",
              " numpy.datetime64('1990-04-11T00:00:00.000000000'),\n",
              " numpy.datetime64('1990-05-24T00:00:00.000000000'),\n",
              " numpy.datetime64('1990-06-22T00:00:00.000000000'),\n",
              " numpy.datetime64('1990-07-01T00:00:00.000000000'),\n",
              " numpy.datetime64('1990-10-23T00:00:00.000000000'),\n",
              " numpy.datetime64('1990-11-05T00:00:00.000000000'),\n",
              " numpy.datetime64('1990-12-08T00:00:00.000000000'),\n",
              " numpy.datetime64('1991-01-01T00:00:00.000000000'),\n",
              " numpy.datetime64('1991-01-07T00:00:00.000000000'),\n",
              " numpy.datetime64('1991-03-31T00:00:00.000000000'),\n",
              " numpy.datetime64('1991-04-19T00:00:00.000000000'),\n",
              " numpy.datetime64('1991-05-24T00:00:00.000000000'),\n",
              " numpy.datetime64('1991-06-20T00:00:00.000000000'),\n",
              " numpy.datetime64('1991-07-01T00:00:00.000000000'),\n",
              " numpy.datetime64('1991-07-06T00:00:00.000000000'),\n",
              " numpy.datetime64('1991-07-15T00:00:00.000000000'),\n",
              " numpy.datetime64('1991-10-01T00:00:00.000000000'),\n",
              " numpy.datetime64('1991-10-29T00:00:00.000000000'),\n",
              " numpy.datetime64('1992-01-01T00:00:00.000000000'),\n",
              " numpy.datetime64('1992-01-01T00:00:00.000000000'),\n",
              " numpy.datetime64('1992-01-01T00:00:00.000000000'),\n",
              " numpy.datetime64('1992-02-05T00:00:00.000000000'),\n",
              " numpy.datetime64('1992-02-22T00:00:00.000000000'),\n",
              " numpy.datetime64('1992-04-17T00:00:00.000000000'),\n",
              " numpy.datetime64('1992-06-13T00:00:00.000000000'),\n",
              " numpy.datetime64('1992-07-01T00:00:00.000000000'),\n",
              " numpy.datetime64('1992-07-17T00:00:00.000000000'),\n",
              " numpy.datetime64('1992-08-16T00:00:00.000000000'),\n",
              " numpy.datetime64('1992-09-01T00:00:00.000000000'),\n",
              " numpy.datetime64('1992-10-01T00:00:00.000000000'),\n",
              " numpy.datetime64('1992-10-14T00:00:00.000000000'),\n",
              " numpy.datetime64('1992-12-15T00:00:00.000000000'),\n",
              " numpy.datetime64('1993-01-01T00:00:00.000000000'),\n",
              " numpy.datetime64('1993-01-01T00:00:00.000000000'),\n",
              " numpy.datetime64('1993-02-01T00:00:00.000000000'),\n",
              " numpy.datetime64('1993-03-01T00:00:00.000000000'),\n",
              " numpy.datetime64('1993-03-25T00:00:00.000000000'),\n",
              " numpy.datetime64('1993-04-01T00:00:00.000000000'),\n",
              " numpy.datetime64('1993-05-06T00:00:00.000000000'),\n",
              " numpy.datetime64('1993-06-05T00:00:00.000000000'),\n",
              " numpy.datetime64('1993-08-23T00:00:00.000000000'),\n",
              " numpy.datetime64('1993-10-01T00:00:00.000000000'),\n",
              " numpy.datetime64('1993-12-01T00:00:00.000000000'),\n",
              " numpy.datetime64('1994-01-01T00:00:00.000000000'),\n",
              " numpy.datetime64('1994-01-01T00:00:00.000000000'),\n",
              " numpy.datetime64('1994-01-01T00:00:00.000000000'),\n",
              " numpy.datetime64('1994-01-29T00:00:00.000000000'),\n",
              " numpy.datetime64('1994-02-01T00:00:00.000000000'),\n",
              " numpy.datetime64('1994-02-18T00:00:00.000000000'),\n",
              " numpy.datetime64('1994-06-12T00:00:00.000000000'),\n",
              " numpy.datetime64('1994-06-28T00:00:00.000000000'),\n",
              " numpy.datetime64('1994-07-01T00:00:00.000000000'),\n",
              " numpy.datetime64('1994-07-29T00:00:00.000000000'),\n",
              " numpy.datetime64('1994-08-14T00:00:00.000000000'),\n",
              " numpy.datetime64('1994-10-01T00:00:00.000000000'),\n",
              " numpy.datetime64('1994-12-01T00:00:00.000000000'),\n",
              " numpy.datetime64('1995-01-01T00:00:00.000000000'),\n",
              " numpy.datetime64('1995-01-01T00:00:00.000000000'),\n",
              " numpy.datetime64('1995-01-01T00:00:00.000000000'),\n",
              " numpy.datetime64('1995-01-18T00:00:00.000000000'),\n",
              " numpy.datetime64('1995-02-01T00:00:00.000000000'),\n",
              " numpy.datetime64('1995-02-14T00:00:00.000000000'),\n",
              " numpy.datetime64('1995-03-01T00:00:00.000000000'),\n",
              " numpy.datetime64('1995-03-14T00:00:00.000000000'),\n",
              " numpy.datetime64('1995-05-01T00:00:00.000000000'),\n",
              " numpy.datetime64('1995-05-01T00:00:00.000000000'),\n",
              " numpy.datetime64('1995-06-17T00:00:00.000000000'),\n",
              " numpy.datetime64('1995-07-01T00:00:00.000000000'),\n",
              " numpy.datetime64('1995-07-24T00:00:00.000000000'),\n",
              " numpy.datetime64('1995-08-18T00:00:00.000000000'),\n",
              " numpy.datetime64('1995-09-06T00:00:00.000000000'),\n",
              " numpy.datetime64('1995-10-01T00:00:00.000000000'),\n",
              " numpy.datetime64('1995-10-13T00:00:00.000000000'),\n",
              " numpy.datetime64('1995-10-21T00:00:00.000000000'),\n",
              " numpy.datetime64('1996-01-01T00:00:00.000000000'),\n",
              " numpy.datetime64('1996-01-22T00:00:00.000000000'),\n",
              " numpy.datetime64('1996-02-06T00:00:00.000000000'),\n",
              " numpy.datetime64('1996-02-27T00:00:00.000000000'),\n",
              " numpy.datetime64('1996-10-01T00:00:00.000000000'),\n",
              " numpy.datetime64('1996-10-02T00:00:00.000000000'),\n",
              " numpy.datetime64('1996-10-14T00:00:00.000000000'),\n",
              " numpy.datetime64('1996-11-11T00:00:00.000000000'),\n",
              " numpy.datetime64('1997-01-01T00:00:00.000000000'),\n",
              " numpy.datetime64('1997-01-01T00:00:00.000000000'),\n",
              " numpy.datetime64('1997-07-01T00:00:00.000000000'),\n",
              " numpy.datetime64('1997-07-11T00:00:00.000000000'),\n",
              " numpy.datetime64('1997-08-09T00:00:00.000000000'),\n",
              " numpy.datetime64('1997-10-01T00:00:00.000000000'),\n",
              " numpy.datetime64('1997-10-05T00:00:00.000000000'),\n",
              " numpy.datetime64('1997-12-08T00:00:00.000000000'),\n",
              " numpy.datetime64('1998-01-01T00:00:00.000000000'),\n",
              " numpy.datetime64('1998-02-15T00:00:00.000000000'),\n",
              " numpy.datetime64('1998-04-01T00:00:00.000000000'),\n",
              " numpy.datetime64('1998-04-24T00:00:00.000000000'),\n",
              " numpy.datetime64('1998-05-15T00:00:00.000000000'),\n",
              " numpy.datetime64('1998-06-01T00:00:00.000000000'),\n",
              " numpy.datetime64('1998-07-21T00:00:00.000000000'),\n",
              " numpy.datetime64('1998-07-25T00:00:00.000000000'),\n",
              " numpy.datetime64('1998-08-01T00:00:00.000000000'),\n",
              " numpy.datetime64('1998-10-04T00:00:00.000000000'),\n",
              " numpy.datetime64('1998-11-01T00:00:00.000000000'),\n",
              " numpy.datetime64('1998-12-01T00:00:00.000000000'),\n",
              " numpy.datetime64('1998-12-22T00:00:00.000000000'),\n",
              " numpy.datetime64('1999-01-01T00:00:00.000000000'),\n",
              " numpy.datetime64('1999-01-05T00:00:00.000000000'),\n",
              " numpy.datetime64('1999-02-01T00:00:00.000000000'),\n",
              " numpy.datetime64('1999-04-01T00:00:00.000000000'),\n",
              " numpy.datetime64('1999-04-01T00:00:00.000000000'),\n",
              " numpy.datetime64('1999-05-01T00:00:00.000000000'),\n",
              " numpy.datetime64('1999-06-01T00:00:00.000000000'),\n",
              " numpy.datetime64('1999-07-24T00:00:00.000000000'),\n",
              " numpy.datetime64('1999-08-01T00:00:00.000000000'),\n",
              " numpy.datetime64('1999-09-01T00:00:00.000000000'),\n",
              " numpy.datetime64('1999-10-18T00:00:00.000000000'),\n",
              " numpy.datetime64('1999-12-23T00:00:00.000000000'),\n",
              " numpy.datetime64('2000-01-01T00:00:00.000000000'),\n",
              " numpy.datetime64('2000-02-01T00:00:00.000000000'),\n",
              " numpy.datetime64('2000-02-01T00:00:00.000000000'),\n",
              " numpy.datetime64('2000-03-01T00:00:00.000000000'),\n",
              " numpy.datetime64('2000-03-01T00:00:00.000000000'),\n",
              " numpy.datetime64('2000-05-01T00:00:00.000000000'),\n",
              " numpy.datetime64('2000-08-01T00:00:00.000000000'),\n",
              " numpy.datetime64('2000-08-10T00:00:00.000000000'),\n",
              " numpy.datetime64('2000-08-23T00:00:00.000000000'),\n",
              " numpy.datetime64('2000-09-01T00:00:00.000000000'),\n",
              " numpy.datetime64('2000-09-14T00:00:00.000000000'),\n",
              " numpy.datetime64('2000-11-01T00:00:00.000000000'),\n",
              " numpy.datetime64('2001-01-01T00:00:00.000000000'),\n",
              " numpy.datetime64('2001-01-24T00:00:00.000000000'),\n",
              " numpy.datetime64('2001-05-01T00:00:00.000000000'),\n",
              " numpy.datetime64('2001-05-26T00:00:00.000000000'),\n",
              " numpy.datetime64('2001-05-30T00:00:00.000000000'),\n",
              " numpy.datetime64('2001-05-30T00:00:00.000000000'),\n",
              " numpy.datetime64('2001-06-01T00:00:00.000000000'),\n",
              " numpy.datetime64('2001-09-01T00:00:00.000000000'),\n",
              " numpy.datetime64('2001-10-01T00:00:00.000000000'),\n",
              " numpy.datetime64('2002-01-01T00:00:00.000000000'),\n",
              " numpy.datetime64('2002-03-01T00:00:00.000000000'),\n",
              " numpy.datetime64('2002-04-01T00:00:00.000000000'),\n",
              " numpy.datetime64('2002-04-13T00:00:00.000000000'),\n",
              " numpy.datetime64('2002-06-01T00:00:00.000000000'),\n",
              " numpy.datetime64('2002-06-28T00:00:00.000000000'),\n",
              " numpy.datetime64('2002-07-18T00:00:00.000000000'),\n",
              " numpy.datetime64('2002-08-01T00:00:00.000000000'),\n",
              " numpy.datetime64('2002-11-11T00:00:00.000000000'),\n",
              " numpy.datetime64('2003-01-01T00:00:00.000000000'),\n",
              " numpy.datetime64('2003-03-01T00:00:00.000000000'),\n",
              " numpy.datetime64('2003-07-01T00:00:00.000000000'),\n",
              " numpy.datetime64('2003-08-01T00:00:00.000000000'),\n",
              " numpy.datetime64('2003-09-01T00:00:00.000000000'),\n",
              " numpy.datetime64('2003-10-06T00:00:00.000000000'),\n",
              " numpy.datetime64('2004-01-01T00:00:00.000000000'),\n",
              " numpy.datetime64('2004-01-01T00:00:00.000000000'),\n",
              " numpy.datetime64('2004-01-01T00:00:00.000000000'),\n",
              " numpy.datetime64('2004-03-12T00:00:00.000000000'),\n",
              " numpy.datetime64('2004-04-01T00:00:00.000000000'),\n",
              " numpy.datetime64('2004-04-08T00:00:00.000000000'),\n",
              " numpy.datetime64('2004-05-01T00:00:00.000000000'),\n",
              " numpy.datetime64('2004-05-01T00:00:00.000000000'),\n",
              " numpy.datetime64('2004-05-01T00:00:00.000000000'),\n",
              " numpy.datetime64('2004-07-01T00:00:00.000000000'),\n",
              " numpy.datetime64('2004-08-01T00:00:00.000000000'),\n",
              " numpy.datetime64('2004-08-12T00:00:00.000000000'),\n",
              " numpy.datetime64('2004-09-10T00:00:00.000000000'),\n",
              " numpy.datetime64('2004-11-11T00:00:00.000000000'),\n",
              " numpy.datetime64('2004-12-01T00:00:00.000000000'),\n",
              " numpy.datetime64('2005-01-01T00:00:00.000000000'),\n",
              " numpy.datetime64('2005-03-01T00:00:00.000000000'),\n",
              " numpy.datetime64('2005-05-01T00:00:00.000000000'),\n",
              " numpy.datetime64('2005-06-01T00:00:00.000000000'),\n",
              " numpy.datetime64('2005-09-01T00:00:00.000000000'),\n",
              " numpy.datetime64('2005-12-01T00:00:00.000000000'),\n",
              " numpy.datetime64('2006-01-01T00:00:00.000000000'),\n",
              " numpy.datetime64('2006-02-11T00:00:00.000000000'),\n",
              " numpy.datetime64('2006-04-27T00:00:00.000000000'),\n",
              " numpy.datetime64('2006-05-01T00:00:00.000000000'),\n",
              " numpy.datetime64('2006-05-01T00:00:00.000000000'),\n",
              " numpy.datetime64('2006-07-01T00:00:00.000000000'),\n",
              " numpy.datetime64('2006-10-18T00:00:00.000000000'),\n",
              " numpy.datetime64('2007-01-01T00:00:00.000000000'),\n",
              " numpy.datetime64('2007-01-01T00:00:00.000000000'),\n",
              " numpy.datetime64('2007-01-01T00:00:00.000000000'),\n",
              " numpy.datetime64('2007-01-01T00:00:00.000000000'),\n",
              " numpy.datetime64('2007-01-01T00:00:00.000000000'),\n",
              " numpy.datetime64('2007-04-01T00:00:00.000000000'),\n",
              " numpy.datetime64('2007-04-01T00:00:00.000000000'),\n",
              " numpy.datetime64('2007-06-01T00:00:00.000000000'),\n",
              " numpy.datetime64('2007-06-01T00:00:00.000000000'),\n",
              " numpy.datetime64('2007-09-01T00:00:00.000000000'),\n",
              " numpy.datetime64('2007-10-21T00:00:00.000000000'),\n",
              " numpy.datetime64('2007-11-01T00:00:00.000000000'),\n",
              " numpy.datetime64('2007-11-30T00:00:00.000000000'),\n",
              " numpy.datetime64('2007-12-01T00:00:00.000000000'),\n",
              " numpy.datetime64('2008-01-01T00:00:00.000000000'),\n",
              " numpy.datetime64('2008-01-01T00:00:00.000000000'),\n",
              " numpy.datetime64('2008-01-14T00:00:00.000000000'),\n",
              " numpy.datetime64('2008-05-26T00:00:00.000000000'),\n",
              " numpy.datetime64('2008-08-01T00:00:00.000000000'),\n",
              " numpy.datetime64('2008-08-01T00:00:00.000000000'),\n",
              " numpy.datetime64('2008-09-01T00:00:00.000000000'),\n",
              " numpy.datetime64('2008-11-01T00:00:00.000000000'),\n",
              " numpy.datetime64('2008-12-01T00:00:00.000000000'),\n",
              " numpy.datetime64('2009-01-01T00:00:00.000000000'),\n",
              " numpy.datetime64('2009-01-01T00:00:00.000000000'),\n",
              " numpy.datetime64('2009-01-01T00:00:00.000000000'),\n",
              " numpy.datetime64('2009-01-01T00:00:00.000000000'),\n",
              " numpy.datetime64('2009-02-01T00:00:00.000000000'),\n",
              " numpy.datetime64('2009-07-01T00:00:00.000000000'),\n",
              " numpy.datetime64('2009-08-01T00:00:00.000000000'),\n",
              " numpy.datetime64('2009-08-01T00:00:00.000000000'),\n",
              " numpy.datetime64('2010-01-01T00:00:00.000000000'),\n",
              " numpy.datetime64('2010-02-01T00:00:00.000000000'),\n",
              " numpy.datetime64('2010-03-01T00:00:00.000000000'),\n",
              " numpy.datetime64('2010-05-01T00:00:00.000000000'),\n",
              " numpy.datetime64('2010-05-26T00:00:00.000000000'),\n",
              " numpy.datetime64('2010-08-01T00:00:00.000000000'),\n",
              " numpy.datetime64('2010-10-01T00:00:00.000000000'),\n",
              " numpy.datetime64('2010-11-01T00:00:00.000000000'),\n",
              " numpy.datetime64('2010-11-01T00:00:00.000000000'),\n",
              " numpy.datetime64('2010-12-05T00:00:00.000000000'),\n",
              " numpy.datetime64('2011-01-01T00:00:00.000000000'),\n",
              " numpy.datetime64('2011-01-24T00:00:00.000000000'),\n",
              " numpy.datetime64('2011-01-25T00:00:00.000000000'),\n",
              " numpy.datetime64('2011-05-01T00:00:00.000000000'),\n",
              " numpy.datetime64('2011-05-01T00:00:00.000000000'),\n",
              " numpy.datetime64('2011-06-01T00:00:00.000000000'),\n",
              " numpy.datetime64('2011-06-13T00:00:00.000000000'),\n",
              " numpy.datetime64('2011-07-20T00:00:00.000000000'),\n",
              " numpy.datetime64('2011-09-15T00:00:00.000000000'),\n",
              " numpy.datetime64('2011-12-01T00:00:00.000000000'),\n",
              " numpy.datetime64('2012-01-01T00:00:00.000000000'),\n",
              " numpy.datetime64('2012-01-01T00:00:00.000000000'),\n",
              " numpy.datetime64('2012-04-01T00:00:00.000000000'),\n",
              " numpy.datetime64('2012-05-01T00:00:00.000000000'),\n",
              " numpy.datetime64('2012-05-12T00:00:00.000000000'),\n",
              " numpy.datetime64('2012-06-25T00:00:00.000000000'),\n",
              " numpy.datetime64('2012-09-01T00:00:00.000000000'),\n",
              " numpy.datetime64('2012-09-01T00:00:00.000000000'),\n",
              " numpy.datetime64('2012-10-21T00:00:00.000000000'),\n",
              " numpy.datetime64('2012-12-01T00:00:00.000000000'),\n",
              " numpy.datetime64('2013-01-01T00:00:00.000000000'),\n",
              " numpy.datetime64('2013-01-01T00:00:00.000000000'),\n",
              " numpy.datetime64('2013-01-01T00:00:00.000000000'),\n",
              " numpy.datetime64('2013-04-01T00:00:00.000000000'),\n",
              " numpy.datetime64('2013-09-01T00:00:00.000000000'),\n",
              " numpy.datetime64('2013-10-11T00:00:00.000000000'),\n",
              " numpy.datetime64('2014-01-01T00:00:00.000000000'),\n",
              " numpy.datetime64('2014-01-01T00:00:00.000000000'),\n",
              " numpy.datetime64('2014-07-01T00:00:00.000000000'),\n",
              " numpy.datetime64('2014-10-01T00:00:00.000000000'),\n",
              " numpy.datetime64('2014-10-01T00:00:00.000000000'),\n",
              " numpy.datetime64('2014-12-01T00:00:00.000000000'),\n",
              " numpy.datetime64('2015-01-01T00:00:00.000000000'),\n",
              " numpy.datetime64('2015-09-01T00:00:00.000000000'),\n",
              " numpy.datetime64('2015-09-28T00:00:00.000000000'),\n",
              " numpy.datetime64('2015-10-01T00:00:00.000000000'),\n",
              " numpy.datetime64('2016-01-01T00:00:00.000000000'),\n",
              " numpy.datetime64('2016-02-01T00:00:00.000000000'),\n",
              " numpy.datetime64('2016-05-01T00:00:00.000000000'),\n",
              " numpy.datetime64('2016-05-01T00:00:00.000000000'),\n",
              " numpy.datetime64('2016-05-30T00:00:00.000000000'),\n",
              " numpy.datetime64('2016-10-13T00:00:00.000000000'),\n",
              " numpy.datetime64('2016-10-19T00:00:00.000000000'),\n",
              " numpy.datetime64('2016-11-01T00:00:00.000000000')]"
            ]
          },
          "metadata": {},
          "execution_count": 33
        }
      ]
    }
  ]
}